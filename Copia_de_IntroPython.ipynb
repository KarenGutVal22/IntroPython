{
  "nbformat": 4,
  "nbformat_minor": 0,
  "metadata": {
    "kernelspec": {
      "display_name": "Python 3",
      "language": "python",
      "name": "python3"
    },
    "language_info": {
      "codemirror_mode": {
        "name": "ipython",
        "version": 3
      },
      "file_extension": ".py",
      "mimetype": "text/x-python",
      "name": "python",
      "nbconvert_exporter": "python",
      "pygments_lexer": "ipython3",
      "version": "3.8.5"
    },
    "colab": {
      "name": "Copia de IntroPython.ipynb",
      "provenance": [],
      "collapsed_sections": [
        "V7wzI38DKsxk"
      ]
    }
  },
  "cells": [
    {
      "cell_type": "markdown",
      "metadata": {
        "id": "V7wzI38DKsxk"
      },
      "source": [
        "# Introducción a la programación con Python\n",
        "\n",
        "En este notebook introducimos una cantidad suficiente de Python para poder comenzar a programar por nuestra cuenta y continuar nuestro aprendizaje.\n",
        "\n",
        "El flujo y ejemplos están basados en el tutorial [A Whirlwind Tour of Python](https://jakevdp.github.io/WhirlwindTourOfPython/) de Jake VanderPlas, autor de \"The Python Data Science Handbook\".\n",
        "\n",
        "El contenido está pensado para ser expuesto, modificado y construido durante la clase bajo el método de enseñanza *live-coding*, por lo que se recomienda estudiarlo acompañado del video de la clase.\n",
        "\n",
        "Existen dos versiones, la *bare-bone*, o versión inicial, con un esqueleto del contenido, y la versión final, resultado de la clase."
      ]
    },
    {
      "cell_type": "markdown",
      "metadata": {
        "id": "MWTkfQnqwkHk"
      },
      "source": [
        "# Agenda\n",
        "\n",
        "## 0. Variables y tipos.\n",
        "## 1.  Listas y Diccionarios\n",
        "## 2. Operadores básicos.\n",
        "## 3. Condiciones.\n",
        "## 4. Ciclos.\n",
        "## 5. Funciones.\n",
        "\n"
      ]
    },
    {
      "cell_type": "markdown",
      "metadata": {
        "id": "dQ_qJMnbwObF"
      },
      "source": [
        "## Sintaxis básica en Python\n",
        "### Veamos primero un ejemplo básico de lo que podemos hacer en Python"
      ]
    },
    {
      "cell_type": "markdown",
      "metadata": {
        "id": "NYrGDLV1xMNU"
      },
      "source": [
        "### Primero una suma simple"
      ]
    },
    {
      "cell_type": "code",
      "metadata": {
        "id": "0tJ3OpOlOyT6",
        "colab": {
          "base_uri": "https://localhost:8080/"
        },
        "outputId": "70e925f2-e502-41f5-8b73-b54fa8ab0644"
      },
      "source": [
        "z = (5+9+23+43)\n",
        "print(z)\n",
        "                     #aqui el enter no afecta la suma o algo asi\n"
      ],
      "execution_count": null,
      "outputs": [
        {
          "output_type": "stream",
          "name": "stdout",
          "text": [
            "80\n"
          ]
        }
      ]
    },
    {
      "cell_type": "markdown",
      "metadata": {
        "id": "Ad61V7uOxQLv"
      },
      "source": [
        "## Ahora una combinación simple de instrucciones"
      ]
    },
    {
      "cell_type": "code",
      "metadata": {
        "id": "Yurd3FA9xbo6",
        "colab": {
          "base_uri": "https://localhost:8080/"
        },
        "outputId": "c410dbb3-ee03-486e-991a-c0c0b99ca000"
      },
      "source": [
        "# set the midpoint\n",
        "midpoint = 70\n",
        "\n",
        "# make two empty lists\n",
        "lower = []\n",
        "upper = []\n",
        "\n",
        "# split the numbers into lower and upper\n",
        "for i in range(140):\n",
        "    if (i < midpoint):\n",
        "        lower.append(i)\n",
        "    else:\n",
        "        upper.append(i)\n",
        "        \n",
        "print(\"lower:\", lower)\n",
        "print(\"upper:\", upper)"
      ],
      "execution_count": null,
      "outputs": [
        {
          "output_type": "stream",
          "name": "stdout",
          "text": [
            "lower: [0, 1, 2, 3, 4, 5, 6, 7, 8, 9, 10, 11, 12, 13, 14, 15, 16, 17, 18, 19, 20, 21, 22, 23, 24, 25, 26, 27, 28, 29, 30, 31, 32, 33, 34, 35, 36, 37, 38, 39, 40, 41, 42, 43, 44, 45, 46, 47, 48, 49, 50, 51, 52, 53, 54, 55, 56, 57, 58, 59, 60, 61, 62, 63, 64, 65, 66, 67, 68, 69]\n",
            "upper: [70, 71, 72, 73, 74, 75, 76, 77, 78, 79, 80, 81, 82, 83, 84, 85, 86, 87, 88, 89, 90, 91, 92, 93, 94, 95, 96, 97, 98, 99, 100, 101, 102, 103, 104, 105, 106, 107, 108, 109, 110, 111, 112, 113, 114, 115, 116, 117, 118, 119, 120, 121, 122, 123, 124, 125, 126, 127, 128, 129, 130, 131, 132, 133, 134, 135, 136, 137, 138, 139]\n"
          ]
        }
      ]
    },
    {
      "cell_type": "markdown",
      "metadata": {
        "id": "Ud-Em2B6yCpO"
      },
      "source": [
        "## Python es noble con la sintaxis"
      ]
    },
    {
      "cell_type": "code",
      "metadata": {
        "id": "Dh-xMWagQc57",
        "colab": {
          "base_uri": "https://localhost:8080/"
        },
        "outputId": "956444ef-97f3-4493-b598-64148ab08e4a"
      },
      "source": [
        "x = 146 +          98                         #El espacio en blanco dentro de las líneas no importa\n",
        "x\n"
      ],
      "execution_count": null,
      "outputs": [
        {
          "output_type": "execute_result",
          "data": {
            "text/plain": [
              "244"
            ]
          },
          "metadata": {},
          "execution_count": 8
        }
      ]
    },
    {
      "cell_type": "markdown",
      "metadata": {
        "id": "asekzt5r0hOa"
      },
      "source": [
        "## Algunas notas de Python\n",
        "- Los comentarios están marcados con #\n",
        "- Fin de línea finaliza una declaración\n",
        "- El punto y coma puede opcionalmente terminar una declaración\n",
        "- Sangría: ¡el espacio en blanco importa!\n",
        "- El espacio en blanco dentro de las líneas no importa\n",
        "- Los paréntesis son para agrupar o llamar"
      ]
    },
    {
      "cell_type": "markdown",
      "metadata": {
        "id": "SN1N1ZNSySOd"
      },
      "source": [
        "## Ahora nuestro primer programita en Python"
      ]
    },
    {
      "cell_type": "code",
      "metadata": {
        "id": "KrgmmPvV7_aP",
        "colab": {
          "base_uri": "https://localhost:8080/"
        },
        "outputId": "eb0a5010-4841-4cb7-d004-f74277a9bbc8"
      },
      "source": [
        "print(\"Hola, soy Karen\"\n",
        ")"
      ],
      "execution_count": null,
      "outputs": [
        {
          "output_type": "stream",
          "name": "stdout",
          "text": [
            "Hola, soy Karen\n"
          ]
        }
      ]
    },
    {
      "cell_type": "markdown",
      "metadata": {
        "id": "lpenQGogyb6G"
      },
      "source": [
        "## Las listas son de las estructuras de datos mas utilizadas de Python"
      ]
    },
    {
      "cell_type": "code",
      "metadata": {
        "id": "KBzaTB7zRSML",
        "colab": {
          "base_uri": "https://localhost:8080/"
        },
        "outputId": "820bc576-9d50-43ed-830a-3e1a5fb2004b"
      },
      "source": [
        "L = [10, 8, 5, 12]\n",
        "print(L)"
      ],
      "execution_count": null,
      "outputs": [
        {
          "output_type": "stream",
          "name": "stdout",
          "text": [
            "[10, 8, 5, 12]\n"
          ]
        }
      ]
    },
    {
      "cell_type": "markdown",
      "metadata": {
        "id": "6sUCRJXTyqcY"
      },
      "source": [
        "### Hasta la podemos ordenar"
      ]
    },
    {
      "cell_type": "code",
      "metadata": {
        "id": "LKw4-t6ZRYuB",
        "colab": {
          "base_uri": "https://localhost:8080/"
        },
        "outputId": "f5e995bd-7bbc-444d-decf-dee110487042"
      },
      "source": [
        "L.sort()\n",
        "L"
      ],
      "execution_count": null,
      "outputs": [
        {
          "output_type": "execute_result",
          "data": {
            "text/plain": [
              "[5, 8, 10, 12]"
            ]
          },
          "metadata": {},
          "execution_count": 14
        }
      ]
    },
    {
      "cell_type": "markdown",
      "metadata": {
        "id": "5UVwrIGcwTzy"
      },
      "source": [
        "## Variables\n",
        "\n",
        "- Las variables de Python son punteros\n",
        "- Todo es un objeto\n",
        "\n",
        "|Type|\tExample|\tDescription\n",
        "|---|---|---|\n",
        "int\t|x = 1|\tintegers (i.e., whole numbers)\n",
        "float\t|x = 1.0\t|floating-point numbers (i.e., real numbers)\n",
        "complex\t|x = 1 + 2j|\tComplex numbers (i.e., numbers with real and imaginary part)\n",
        "bool\t|x = True|\tBoolean: True/False values\n",
        "str\t|x = 'abc'|\tString: characters or text\n",
        "NoneType|\tx = None|\tSpecial object indicating nulls"
      ]
    },
    {
      "cell_type": "markdown",
      "metadata": {
        "id": "hXJEBJTWy7C_"
      },
      "source": [
        "Las variables son **ubicaciones de memoria reservada** para guardar valores y en Python no se declaran explícitamente.\n",
        "\n",
        "Usamos  el signo igual (=) para crear asignaciones de variables.\n",
        "\n",
        "El operando del lado izquierdo del **signo igual (=) es el nombre de la variable**, y el operando de la derecha es el valor guardado en esa variable."
      ]
    },
    {
      "cell_type": "markdown",
      "metadata": {
        "id": "D4HkIVrSzQ7w"
      },
      "source": [
        "# Definiendo una variable\n",
        "\n",
        "Podemos crear una variable llamada edad y asignarle un valor numérico:\n",
        "\n",
        "**edad = 33**\n",
        "\n",
        "O crear otra variable donde guardamos tu nombre como cadena de caracteres:\n",
        "\n",
        "**nombre = “Ada Lovelace”**\n"
      ]
    },
    {
      "cell_type": "code",
      "metadata": {
        "id": "BMBaPdSV8xc7",
        "colab": {
          "base_uri": "https://localhost:8080/"
        },
        "outputId": "b3f71982-9368-4543-dbab-a23846f17259"
      },
      "source": [
        "EdadKaren=20\n",
        "Nombre=\"Karen G.V.\"\n",
        "print(Nombre,EdadKaren)"
      ],
      "execution_count": null,
      "outputs": [
        {
          "output_type": "stream",
          "name": "stdout",
          "text": [
            "Karen G.V. 20\n"
          ]
        }
      ]
    },
    {
      "cell_type": "code",
      "metadata": {
        "id": "JQlT4LgPzbgi"
      },
      "source": [
        ""
      ],
      "execution_count": null,
      "outputs": []
    },
    {
      "cell_type": "markdown",
      "metadata": {
        "id": "mtpj5EN2zheO"
      },
      "source": [
        "# Listas y diccionarios"
      ]
    },
    {
      "cell_type": "markdown",
      "metadata": {
        "id": "H_CIjqEqznqT"
      },
      "source": [
        "Una Lista puede guardar todo tipo de variables, y puede contener cuantas variables desees.\n",
        "\n",
        "Los valores guardados en una lista se pueden acceder usando el operador slice ([ ] y [:]) con índices en 0 al inicio de la lista y hasta el final -1.\n",
        "\n",
        "Los diccionarios son similares a las listas, pero funcionan con llaves(claves) y valores en vez de índices."
      ]
    },
    {
      "cell_type": "markdown",
      "metadata": {
        "id": "rju0J4WczqbN"
      },
      "source": [
        "## Declarando una lista\n",
        "\n",
        "Podemos crear una lista y asignarle cualquier tipo de dato como números y cadenas de caracteres:\n",
        "\n",
        "\n",
        "lista = [ 'manzanas', 280 , 3.70, 'Python', 40]\n",
        "\n",
        "\n",
        "lista_pequena = [221, 'peras']\n"
      ]
    },
    {
      "cell_type": "code",
      "metadata": {
        "id": "HZz9b10tSJNA",
        "colab": {
          "base_uri": "https://localhost:8080/"
        },
        "outputId": "ada44d15-fad5-4c87-8ba8-9c9c62710c99"
      },
      "source": [
        "lista=[\"peras\", 443.8, \"guayabas\",553.876]\n",
        "listapequeña=[234, \"uvas\"]\n",
        "listapequeña"
      ],
      "execution_count": null,
      "outputs": [
        {
          "output_type": "execute_result",
          "data": {
            "text/plain": [
              "[234, 'uvas']"
            ]
          },
          "metadata": {},
          "execution_count": 23
        }
      ]
    },
    {
      "cell_type": "code",
      "source": [
        "lista"
      ],
      "metadata": {
        "id": "Oyf7G6wmAz4e",
        "colab": {
          "base_uri": "https://localhost:8080/"
        },
        "outputId": "ae0fa597-8fc8-4cc0-ca61-6bd3e46d7708"
      },
      "execution_count": null,
      "outputs": [
        {
          "output_type": "execute_result",
          "data": {
            "text/plain": [
              "['peras', 443.8, 'guayabas', 553.876]"
            ]
          },
          "metadata": {},
          "execution_count": 24
        }
      ]
    },
    {
      "cell_type": "markdown",
      "metadata": {
        "id": "WqijJy-4wbzY"
      },
      "source": [
        "# Operadores"
      ]
    },
    {
      "cell_type": "markdown",
      "metadata": {
        "id": "fArm64_B0lCi"
      },
      "source": [
        "# Operadores básicos\n",
        "Como en cualquier lenguaje moderno, podemos hacer operaciones matemáticas como adición, sustracción, multiplicación y división.\n",
        "\n",
        "Los operadores +, -, * y / sirven para manipular números o variables que contengan números y realizar cálculos desde Python.\n",
        "\n",
        "# Usando operadores básicos\n",
        "Podemos crear una variable para guardar el resultado de una suma, multiplicación y división:\n",
        "\n",
        "numero_final = 1 + 2 * 3 / 4 \n",
        "print(numero_final)\n",
        "\n",
        "También podemos hacer adición de cadenas de caracteres:\n",
        "\n",
        "sapere_aude = \"sapere\" + \" \" + \"aude\"\n",
        "print(sapere_aude)\n"
      ]
    },
    {
      "cell_type": "markdown",
      "metadata": {
        "id": "khCfSYGN-QMG"
      },
      "source": [
        "### Operadores aritméticos\n",
        "\n",
        "\n",
        "|Operator\t|Name\t\n",
        "| ----- - | --- \n",
        "a + b\t| Suma\n",
        "a - b\t| Resta\n",
        "a * b\t| Multiplicación\n",
        "a / b\t| Division\t\n",
        "a // b | Division entera\n",
        "a % b | Módulo\t\n",
        "a ** b | Exponenciación\n",
        "-a | Negación\n",
        " +a | Unary \n",
        " @ | Producto de matrices"
      ]
    },
    {
      "cell_type": "code",
      "metadata": {
        "id": "knXxLixZ_ebT",
        "colab": {
          "base_uri": "https://localhost:8080/"
        },
        "outputId": "236dbd75-f813-41ef-a1e5-c0c1fc99d970"
      },
      "source": [
        "a=22+30\n",
        "a"
      ],
      "execution_count": null,
      "outputs": [
        {
          "output_type": "execute_result",
          "data": {
            "text/plain": [
              "52"
            ]
          },
          "metadata": {},
          "execution_count": 25
        }
      ]
    },
    {
      "cell_type": "code",
      "metadata": {
        "id": "_AMAsKwLYo2J",
        "colab": {
          "base_uri": "https://localhost:8080/"
        },
        "outputId": "07516602-dea1-4b74-8546-68a52c49ad65"
      },
      "source": [
        "v=7**5\n",
        "v"
      ],
      "execution_count": null,
      "outputs": [
        {
          "output_type": "execute_result",
          "data": {
            "text/plain": [
              "16807"
            ]
          },
          "metadata": {},
          "execution_count": 26
        }
      ]
    },
    {
      "cell_type": "code",
      "source": [
        "z=45//0.1\n",
        "z"
      ],
      "metadata": {
        "id": "OOxYHqq_A1i_",
        "colab": {
          "base_uri": "https://localhost:8080/"
        },
        "outputId": "ec85e35d-7aa6-45ba-a947-62237811fc95"
      },
      "execution_count": null,
      "outputs": [
        {
          "output_type": "execute_result",
          "data": {
            "text/plain": [
              "449.0"
            ]
          },
          "metadata": {},
          "execution_count": 31
        }
      ]
    },
    {
      "cell_type": "markdown",
      "metadata": {
        "id": "7uLXONgE-Uxf"
      },
      "source": [
        "### Operaciones bit a bit\n",
        "\n",
        "|Operator\t|Name\t\n",
        "| --- | --- |\n",
        "|a & b\t|Bitwise AND\t\n",
        "|a \\| b\t|Bitwise OR\t\n",
        "|a ^ b\t|Bitwise XOR\t\n",
        "|a << b\t|Bit shift left\t\n",
        "|a >> b\t|Bit shift right\t\n",
        "|~a\t|Bitwise NOT\t\n"
      ]
    },
    {
      "cell_type": "code",
      "metadata": {
        "id": "BM1kmSdCZESH",
        "colab": {
          "base_uri": "https://localhost:8080/"
        },
        "outputId": "1e8a7170-f6e5-4677-a75c-cafdbfb93401"
      },
      "source": [
        "a=3\n",
        "b=5\n",
        "a & b"
      ],
      "execution_count": null,
      "outputs": [
        {
          "output_type": "execute_result",
          "data": {
            "text/plain": [
              "1"
            ]
          },
          "metadata": {},
          "execution_count": 37
        }
      ]
    },
    {
      "cell_type": "code",
      "metadata": {
        "id": "wCVc0HalZK6w",
        "colab": {
          "base_uri": "https://localhost:8080/"
        },
        "outputId": "86061a4e-9483-4cbf-9201-ba929dbdcae9"
      },
      "source": [
        "a^b"
      ],
      "execution_count": null,
      "outputs": [
        {
          "output_type": "execute_result",
          "data": {
            "text/plain": [
              "6"
            ]
          },
          "metadata": {},
          "execution_count": 38
        }
      ]
    },
    {
      "cell_type": "markdown",
      "metadata": {
        "id": "Pjx_unYGAXT0"
      },
      "source": [
        "### Operaciones de asignación\n",
        "\n",
        "| | | | |\n",
        "| --- | --- | --- | --- |\n",
        "|a += b|\ta -= b|\ta *= b\t|a /= b|\n",
        "|a //= b|\ta %= b|\ta **= b|\ta &= b|\n",
        "|a \\|= b|\ta ^= b|\ta <<= b\t|a >>= b|"
      ]
    },
    {
      "cell_type": "code",
      "metadata": {
        "id": "xn8It8mCZc6T",
        "colab": {
          "base_uri": "https://localhost:8080/"
        },
        "outputId": "8e8e79fd-6660-4130-e313-a57087b62a38"
      },
      "source": [
        "a=43; b=29\n",
        "x=a; x+=b\n",
        "print(\"x+=\", x)"
      ],
      "execution_count": null,
      "outputs": [
        {
          "output_type": "stream",
          "name": "stdout",
          "text": [
            "x+= 72\n"
          ]
        }
      ]
    },
    {
      "cell_type": "code",
      "source": [
        "x=a; x/=b;  print(\"x/=\", x)"
      ],
      "metadata": {
        "id": "_cBCmhMqA2HQ",
        "colab": {
          "base_uri": "https://localhost:8080/"
        },
        "outputId": "d56f816d-0faa-4a61-a344-94e2ea3e87ca"
      },
      "execution_count": null,
      "outputs": [
        {
          "output_type": "stream",
          "name": "stdout",
          "text": [
            "x/= 1.4827586206896552\n"
          ]
        }
      ]
    },
    {
      "cell_type": "markdown",
      "metadata": {
        "id": "-7NF3WOxA1_U"
      },
      "source": [
        "### Operadores de comparación\n",
        "\n",
        "| | |\n",
        "|---|---|\n",
        "|a == b| a != b|\n",
        "|a < b  | a > b\n",
        "|a <= b |\ta >= b"
      ]
    },
    {
      "cell_type": "code",
      "metadata": {
        "id": "1G5pON9oZps5",
        "colab": {
          "base_uri": "https://localhost:8080/"
        },
        "outputId": "13666fa4-4ce3-4063-ba71-7ccbb0e0363b"
      },
      "source": [
        "a=43; b=29\n",
        "a!=b"
      ],
      "execution_count": null,
      "outputs": [
        {
          "output_type": "execute_result",
          "data": {
            "text/plain": [
              "True"
            ]
          },
          "metadata": {},
          "execution_count": 54
        }
      ]
    },
    {
      "cell_type": "code",
      "metadata": {
        "id": "3cjK2LH5Z01L",
        "colab": {
          "base_uri": "https://localhost:8080/"
        },
        "outputId": "9a07fc60-a42e-4fe6-9c95-56d128bf5a84"
      },
      "source": [
        "a==b\n"
      ],
      "execution_count": null,
      "outputs": [
        {
          "output_type": "execute_result",
          "data": {
            "text/plain": [
              "False"
            ]
          },
          "metadata": {},
          "execution_count": 53
        }
      ]
    },
    {
      "cell_type": "code",
      "source": [
        "a>b"
      ],
      "metadata": {
        "id": "YZ8cJJ-NA2qk",
        "colab": {
          "base_uri": "https://localhost:8080/"
        },
        "outputId": "60b3d064-ea24-4abc-e6ec-c5e74977cfb1"
      },
      "execution_count": null,
      "outputs": [
        {
          "output_type": "execute_result",
          "data": {
            "text/plain": [
              "True"
            ]
          },
          "metadata": {},
          "execution_count": 55
        }
      ]
    },
    {
      "cell_type": "markdown",
      "metadata": {
        "id": "26BWEl-LBlRB"
      },
      "source": [
        "### Operaciones Booleanas\n",
        "\n",
        "| | | |\n",
        "| --- | --- | --- |\n",
        "|and | or | not|"
      ]
    },
    {
      "cell_type": "code",
      "metadata": {
        "id": "t4C1ZPDMaG07",
        "colab": {
          "base_uri": "https://localhost:8080/"
        },
        "outputId": "7a01cde3-ec24-45ad-be27-525d359bb7c3"
      },
      "source": [
        "True and True"
      ],
      "execution_count": null,
      "outputs": [
        {
          "output_type": "execute_result",
          "data": {
            "text/plain": [
              "True"
            ]
          },
          "metadata": {},
          "execution_count": 56
        }
      ]
    },
    {
      "cell_type": "code",
      "metadata": {
        "id": "Hk1-lQAeaRpK",
        "colab": {
          "base_uri": "https://localhost:8080/"
        },
        "outputId": "39f1faf8-4b42-40b0-8de0-e9b1af691112"
      },
      "source": [
        "True or False"
      ],
      "execution_count": null,
      "outputs": [
        {
          "output_type": "execute_result",
          "data": {
            "text/plain": [
              "True"
            ]
          },
          "metadata": {},
          "execution_count": 57
        }
      ]
    },
    {
      "cell_type": "code",
      "source": [
        "not True "
      ],
      "metadata": {
        "id": "i2os8jEtA3NZ",
        "colab": {
          "base_uri": "https://localhost:8080/"
        },
        "outputId": "33937690-8cff-4879-fff9-05d9c2ee5f7f"
      },
      "execution_count": null,
      "outputs": [
        {
          "output_type": "execute_result",
          "data": {
            "text/plain": [
              "False"
            ]
          },
          "metadata": {},
          "execution_count": 59
        }
      ]
    },
    {
      "cell_type": "markdown",
      "metadata": {
        "id": "iQV4tGokCgOJ"
      },
      "source": [
        "### Identity and Membership Operators\n",
        "\n",
        "> Bloque con sangría\n",
        "\n",
        "\n",
        "\n",
        "| | |\n",
        "| - | -|\n",
        "|a is b|\tTrue if a and b are identical objects\n",
        "a is not b|\tTrue if a and b are not identical objects\n",
        "a in b |\tTrue if a is a member of b\n",
        "a not in b\t|True if a is not a member of b"
      ]
    },
    {
      "cell_type": "code",
      "metadata": {
        "id": "i6oaKyE2aanR",
        "colab": {
          "base_uri": "https://localhost:8080/"
        },
        "outputId": "be815b54-78b5-4c15-cfe6-29ae570fbfdc"
      },
      "source": [
        "a is b"
      ],
      "execution_count": null,
      "outputs": [
        {
          "output_type": "execute_result",
          "data": {
            "text/plain": [
              "False"
            ]
          },
          "metadata": {},
          "execution_count": 60
        }
      ]
    },
    {
      "cell_type": "code",
      "metadata": {
        "id": "Zk0Lri6CajcW",
        "colab": {
          "base_uri": "https://localhost:8080/"
        },
        "outputId": "2aabb803-ed1c-4de4-ef6a-1975b72b6097"
      },
      "source": [
        "a is not b"
      ],
      "execution_count": null,
      "outputs": [
        {
          "output_type": "execute_result",
          "data": {
            "text/plain": [
              "True"
            ]
          },
          "metadata": {},
          "execution_count": 61
        }
      ]
    },
    {
      "cell_type": "markdown",
      "metadata": {
        "id": "60K_ktBRwshv"
      },
      "source": [
        "## Estructuras de datos incorporadas\n",
        "\n",
        "|Type Name| Example|\tDescription|\n",
        "|-|-|-|\n",
        "list|\t[1, 2, 3]\t|Ordered collection\n",
        "tuple|\t(1, 2, 3)|\tImmutable ordered collection\n",
        "dict|\t{'a':1, 'b':2, 'c':3}|\tUnordered (key,value) mapping (insertion ordered 3.7+)\n",
        "set\t|{1, 2, 3}|\tUnordered collection of unique values"
      ]
    },
    {
      "cell_type": "code",
      "metadata": {
        "id": "6K5R3Y4uce19",
        "colab": {
          "base_uri": "https://localhost:8080/"
        },
        "outputId": "8acb9d5f-38a6-438f-f183-68327711a312"
      },
      "source": [
        "[3,4,5]"
      ],
      "execution_count": null,
      "outputs": [
        {
          "output_type": "execute_result",
          "data": {
            "text/plain": [
              "[3, 4, 5]"
            ]
          },
          "metadata": {},
          "execution_count": 65
        }
      ]
    },
    {
      "cell_type": "code",
      "metadata": {
        "id": "fU80msD2cf0f",
        "colab": {
          "base_uri": "https://localhost:8080/"
        },
        "outputId": "7345cce9-2e99-4d0b-b4f4-1da0942236f4"
      },
      "source": [
        "(3,4,6)"
      ],
      "execution_count": null,
      "outputs": [
        {
          "output_type": "execute_result",
          "data": {
            "text/plain": [
              "(3, 4, 6)"
            ]
          },
          "metadata": {},
          "execution_count": 66
        }
      ]
    },
    {
      "cell_type": "code",
      "metadata": {
        "id": "7_agAnsZcmEa",
        "colab": {
          "base_uri": "https://localhost:8080/"
        },
        "outputId": "34c5659b-f861-438e-c1b1-d6164e05b0dd"
      },
      "source": [
        "{'a':90, 'b':23, 'c':36}"
      ],
      "execution_count": null,
      "outputs": [
        {
          "output_type": "execute_result",
          "data": {
            "text/plain": [
              "{'a': 90, 'b': 23, 'c': 36}"
            ]
          },
          "metadata": {},
          "execution_count": 69
        }
      ]
    },
    {
      "cell_type": "code",
      "metadata": {
        "id": "FaMdhj6ecp9Q",
        "colab": {
          "base_uri": "https://localhost:8080/"
        },
        "outputId": "dae4903e-e805-49d1-cd12-5cddfcd6fc8c"
      },
      "source": [
        "{2,7,9}"
      ],
      "execution_count": null,
      "outputs": [
        {
          "output_type": "execute_result",
          "data": {
            "text/plain": [
              "{2, 7, 9}"
            ]
          },
          "metadata": {},
          "execution_count": 70
        }
      ]
    },
    {
      "cell_type": "markdown",
      "metadata": {
        "id": "MvDKNgH8IeHq"
      },
      "source": [
        "#### List comprehension"
      ]
    },
    {
      "cell_type": "markdown",
      "metadata": {
        "id": "VkaqP4srrGQH"
      },
      "source": [
        "Métodos útiles para listas:\n",
        "- append\n",
        "- count\n",
        "- index\n",
        "- sort\n",
        "- reverse"
      ]
    },
    {
      "cell_type": "markdown",
      "metadata": {
        "id": "_eS-uI48OXig"
      },
      "source": [
        "### Tuplas"
      ]
    },
    {
      "cell_type": "code",
      "metadata": {
        "id": "5p_tamwtc2Tv",
        "colab": {
          "base_uri": "https://localhost:8080/"
        },
        "outputId": "eb3f72b9-4305-41c7-b023-74ecb08d6c36"
      },
      "source": [
        "(2,5,6)"
      ],
      "execution_count": null,
      "outputs": [
        {
          "output_type": "execute_result",
          "data": {
            "text/plain": [
              "(2, 5, 6)"
            ]
          },
          "metadata": {},
          "execution_count": 71
        }
      ]
    },
    {
      "cell_type": "code",
      "metadata": {
        "id": "Bk56eOzRc7Uf",
        "colab": {
          "base_uri": "https://localhost:8080/"
        },
        "outputId": "852b36b6-5835-4b50-f182-b32308f06bcb"
      },
      "source": [
        "(\"hola\", 56, 7)"
      ],
      "execution_count": null,
      "outputs": [
        {
          "output_type": "execute_result",
          "data": {
            "text/plain": [
              "('hola', 56, 7)"
            ]
          },
          "metadata": {},
          "execution_count": 72
        }
      ]
    },
    {
      "cell_type": "code",
      "metadata": {
        "id": "c_W0cPUPdIZm",
        "colab": {
          "base_uri": "https://localhost:8080/"
        },
        "outputId": "b2d5e824-7f7c-4dd5-e3d4-7f2ea932806f"
      },
      "source": [
        "(\"lámparas\",24)"
      ],
      "execution_count": null,
      "outputs": [
        {
          "output_type": "execute_result",
          "data": {
            "text/plain": [
              "('lámparas', 24)"
            ]
          },
          "metadata": {},
          "execution_count": 73
        }
      ]
    },
    {
      "cell_type": "markdown",
      "metadata": {
        "id": "sT48IcS3OERZ"
      },
      "source": [
        "### Diccionarios"
      ]
    },
    {
      "cell_type": "code",
      "metadata": {
        "id": "srUvzeH6dtXx"
      },
      "source": [
        "# key: value pair\n"
      ],
      "execution_count": null,
      "outputs": []
    },
    {
      "cell_type": "code",
      "metadata": {
        "id": "IVCtE9t7d-Mk",
        "colab": {
          "base_uri": "https://localhost:8080/"
        },
        "outputId": "ba220f83-b6a4-44aa-8a4b-09094a6cb8ea"
      },
      "source": [
        "diccionario = {'nombre' : 'Karen', 'edad' : 20}\n",
        "print(diccionario ['nombre'])"
      ],
      "execution_count": null,
      "outputs": [
        {
          "output_type": "stream",
          "name": "stdout",
          "text": [
            "Karen\n"
          ]
        }
      ]
    },
    {
      "cell_type": "code",
      "metadata": {
        "id": "movyR5a8eRH1",
        "colab": {
          "base_uri": "https://localhost:8080/"
        },
        "outputId": "0f6f1362-2346-4021-e3f0-789f83a71655"
      },
      "source": [
        "print(diccionario['edad'])"
      ],
      "execution_count": null,
      "outputs": [
        {
          "output_type": "stream",
          "name": "stdout",
          "text": [
            "20\n"
          ]
        }
      ]
    },
    {
      "cell_type": "markdown",
      "metadata": {
        "id": "RUWGpKHSOJhB"
      },
      "source": [
        "### Conjuntos (Sets)"
      ]
    },
    {
      "cell_type": "code",
      "metadata": {
        "id": "J1ZUc07DecK1",
        "colab": {
          "base_uri": "https://localhost:8080/"
        },
        "outputId": "6e148c1b-1ce2-44ac-a7c9-0b893e5116c5"
      },
      "source": [
        "s = {True, 45.87, 4, False, \"Hola Python\", (5, 9)}\n",
        "s"
      ],
      "execution_count": null,
      "outputs": [
        {
          "output_type": "execute_result",
          "data": {
            "text/plain": [
              "{(5, 9), 4, 45.87, False, 'Hola Python', True}"
            ]
          },
          "metadata": {},
          "execution_count": 81
        }
      ]
    },
    {
      "cell_type": "code",
      "metadata": {
        "id": "2CoZCEM9ektC",
        "colab": {
          "base_uri": "https://localhost:8080/"
        },
        "outputId": "3d4850ce-ac6a-4fbe-d024-d822a601607f"
      },
      "source": [
        "w={False, not False, 'Adiós', 30.4}\n",
        "w"
      ],
      "execution_count": null,
      "outputs": [
        {
          "output_type": "execute_result",
          "data": {
            "text/plain": [
              "{30.4, 'Adiós', False, True}"
            ]
          },
          "metadata": {},
          "execution_count": 82
        }
      ]
    },
    {
      "cell_type": "markdown",
      "metadata": {
        "id": "Fu-9K1Xcwyra"
      },
      "source": [
        "## Flujo de control"
      ]
    },
    {
      "cell_type": "markdown",
      "metadata": {
        "id": "t_8nzXjT1Jvf"
      },
      "source": [
        "Python soporta las condiciones lógicas comunes en matemáticas:\n",
        "\n",
        "Igualdad: \t\t\t\t\tmanzana == banana\n",
        "\n",
        "Desigualdad: \t\t\t\tmanzana != banana\n",
        "\n",
        "Menor que: \t\t\t\t\tmanzana < banana\n",
        "\n",
        "Menor o igual a que: \t\tmanzana <= banana\n",
        "\n",
        "Mayor que: \t\t\t\t\tmanzana > banana\n",
        "\n",
        "Mayor o igual que: \t\t\tmanzana >= banana"
      ]
    },
    {
      "cell_type": "markdown",
      "metadata": {
        "id": "UvvMSfrC1Z25"
      },
      "source": [
        "Esas condicionales se pueden utilizar de distintas maneras, de manera muy frecuente en las sentencias if y en los ciclos.\n",
        "\n",
        "Python depende de la identación para definir la ejecución de una sentencia condicional como if. Otros lenguajes de programación utilizan las llaves (“{“ y ”}”, respectivamente) para este propósito."
      ]
    },
    {
      "cell_type": "markdown",
      "metadata": {
        "id": "_61maWoEOceN"
      },
      "source": [
        "### Conditional Statements: if-elif-else"
      ]
    },
    {
      "cell_type": "markdown",
      "metadata": {
        "id": "d5VAzApa3ahN"
      },
      "source": [
        "Podemos hace un condicionamiento doble con if y else, elif de la siguiente manera:\n",
        "a = 200\n",
        "b = 33\n",
        "if b > a:\n",
        "   > print(\"b es más grande que a\")\n",
        "\n",
        "elif b=a:\n",
        "   > print(“b es exactamente igual a a”)\n",
        "   \n",
        "else:\n",
        "   > print(\"b no es más grande que a\")\n",
        "\n",
        "O un condicionamiento simple en una sóla línea:\n",
        "\n",
        "if a > b: print(\"a es mayor que b\")\n"
      ]
    },
    {
      "cell_type": "code",
      "metadata": {
        "id": "yu-AZiO_lMu0",
        "colab": {
          "base_uri": "https://localhost:8080/"
        },
        "outputId": "37b8752c-87c2-4e0d-c6c7-8e9f0868c03e"
      },
      "source": [
        "a=26\n",
        "b=70\n",
        "if b>a:\n",
        "  print(\"b no es más grande que a\")\n"
      ],
      "execution_count": null,
      "outputs": [
        {
          "output_type": "stream",
          "name": "stdout",
          "text": [
            "b no es más grande que a\n"
          ]
        }
      ]
    },
    {
      "cell_type": "markdown",
      "metadata": {
        "id": "t527s_QS4FDg"
      },
      "source": [
        "# Condicionales: and y or\n",
        "Los operadores booleanos and y or permiten expresiones booleanas complejas como:"
      ]
    },
    {
      "cell_type": "code",
      "metadata": {
        "id": "A6EO_GuZ4Lbj",
        "colab": {
          "base_uri": "https://localhost:8080/"
        },
        "outputId": "a6c6a46b-b9c0-4307-e0c7-55f560f561fe"
      },
      "source": [
        "True and True\n"
      ],
      "execution_count": null,
      "outputs": [
        {
          "output_type": "execute_result",
          "data": {
            "text/plain": [
              "True"
            ]
          },
          "metadata": {},
          "execution_count": 92
        }
      ]
    },
    {
      "cell_type": "markdown",
      "metadata": {
        "id": "PaeIrmE44Wvo"
      },
      "source": [
        "# Condicionales: in y is\n",
        "Los operadores booleanos in y is permiten expresiones booleanas complejas como:"
      ]
    },
    {
      "cell_type": "code",
      "metadata": {
        "id": "KdwJoQoK4YHw",
        "colab": {
          "base_uri": "https://localhost:8080/"
        },
        "outputId": "c56c1586-288f-4d4b-9240-df858e044332"
      },
      "source": [
        "lista2=[\"José\", \"Benito\", \"Karen\"]\n",
        "if \"José\" in lista2:\n",
        "  print(\"si está\")"
      ],
      "execution_count": null,
      "outputs": [
        {
          "output_type": "stream",
          "name": "stdout",
          "text": [
            "si está\n"
          ]
        }
      ]
    },
    {
      "cell_type": "code",
      "source": [
        "Benito=Benito\n",
        "if Benito is Benito:\n",
        "  print(\"si es\")"
      ],
      "metadata": {
        "colab": {
          "base_uri": "https://localhost:8080/"
        },
        "id": "unevzKTWUaUf",
        "outputId": "d93b6979-70bf-4c40-a4fa-1f7baba49613"
      },
      "execution_count": null,
      "outputs": [
        {
          "output_type": "stream",
          "name": "stdout",
          "text": [
            "si es\n"
          ]
        }
      ]
    },
    {
      "cell_type": "code",
      "source": [
        "w=3\n",
        "y=3\n",
        "if w is y:\n",
        "  print(\"son iguales\")"
      ],
      "metadata": {
        "colab": {
          "base_uri": "https://localhost:8080/"
        },
        "id": "eFgWYL-lU7Vm",
        "outputId": "f7e9bcdf-8c08-4514-e9c9-d7c83e6adbcf"
      },
      "execution_count": null,
      "outputs": [
        {
          "output_type": "stream",
          "name": "stdout",
          "text": [
            "son iguales\n"
          ]
        }
      ]
    },
    {
      "cell_type": "markdown",
      "metadata": {
        "id": "itEziK8C5coc"
      },
      "source": [
        "# Ciclos\n",
        "\n",
        "Los ciclos sirven para cursar sobre una secuencia (como una lista, un diccionario o una cadena de caracteres).\n",
        "\n",
        "El ciclo for, por ejemplo, permite ejecutar una conjunto de instrucciones, una para cada elemento en la lista, diccionario o cadena de caracteres que pretendemos leer."
      ]
    },
    {
      "cell_type": "markdown",
      "metadata": {
        "id": "1C5otK3aOcx5"
      },
      "source": [
        "## for loops"
      ]
    },
    {
      "cell_type": "markdown",
      "metadata": {
        "id": "3JSxKnoh5kcS"
      },
      "source": [
        "# Declarando un ciclo for\n",
        "Podemos crear una lista de variables con números primos dentro"
      ]
    },
    {
      "cell_type": "code",
      "metadata": {
        "id": "b7ZmclEElRA2",
        "colab": {
          "base_uri": "https://localhost:8080/"
        },
        "outputId": "f2040fb1-6d09-4528-aedd-35036a370a83"
      },
      "source": [
        "cosas=[\"paletas\", \"sobres\", \"dados\"]\n",
        "for cosa in cosas:\n",
        "  print(\"las cosas son\", cosa)"
      ],
      "execution_count": null,
      "outputs": [
        {
          "output_type": "stream",
          "name": "stdout",
          "text": [
            "las cosas son paletas\n",
            "las cosas son sobres\n",
            "las cosas son dados\n"
          ]
        }
      ]
    },
    {
      "cell_type": "code",
      "metadata": {
        "id": "R-C_5i7vklcr",
        "colab": {
          "base_uri": "https://localhost:8080/"
        },
        "outputId": "2d035341-cbec-457b-aef4-93999b639bfd"
      },
      "source": [
        "numeros=[1,2,3,4,6]\n",
        "for numero in numeros:\n",
        "  print(\"el número es\", numero)"
      ],
      "execution_count": null,
      "outputs": [
        {
          "output_type": "stream",
          "name": "stdout",
          "text": [
            "el número es 1\n",
            "el número es 2\n",
            "el número es 3\n",
            "el número es 4\n",
            "el número es 6\n"
          ]
        }
      ]
    },
    {
      "cell_type": "markdown",
      "metadata": {
        "id": "0SQqMtB9lZYA"
      },
      "source": [
        "### while loops"
      ]
    },
    {
      "cell_type": "code",
      "metadata": {
        "id": "vr0FbT97laxM",
        "colab": {
          "base_uri": "https://localhost:8080/"
        },
        "outputId": "9ede4d3e-fd3d-48b2-d042-13a19de28c42"
      },
      "source": [
        "count=0\n",
        "while count<5:\n",
        "  print(count)\n",
        "  count=count+1"
      ],
      "execution_count": null,
      "outputs": [
        {
          "output_type": "stream",
          "name": "stdout",
          "text": [
            "0\n",
            "1\n",
            "2\n",
            "3\n",
            "4\n"
          ]
        }
      ]
    },
    {
      "cell_type": "markdown",
      "metadata": {
        "id": "MwalUZiPlenr"
      },
      "source": [
        "### break and continue: Fine-Tuning Your Loops\n",
        "\n",
        "- `break` se sale del bucle por completo\n",
        "- `continue` omite el resto del ciclo actual y pasa a la siguiente iteración "
      ]
    },
    {
      "cell_type": "code",
      "metadata": {
        "id": "0RUUZQLXlu5y",
        "colab": {
          "base_uri": "https://localhost:8080/"
        },
        "outputId": "ef8f61de-fbbe-47a1-ff4f-bcc84790e254"
      },
      "source": [
        "count=0\n",
        "while True:\n",
        "  print(count)\n",
        "  count+=1\n",
        "  if count>=5:\n",
        "    break"
      ],
      "execution_count": null,
      "outputs": [
        {
          "output_type": "stream",
          "name": "stdout",
          "text": [
            "0\n",
            "1\n",
            "2\n",
            "3\n",
            "4\n"
          ]
        }
      ]
    },
    {
      "cell_type": "code",
      "source": [
        "for x in range(10):\n",
        "  if x%2==0:\n",
        "    continue\n",
        "print (x)"
      ],
      "metadata": {
        "colab": {
          "base_uri": "https://localhost:8080/"
        },
        "id": "RWrYLG2_edZ2",
        "outputId": "4cd706c1-8cbe-4347-981b-4edf347060b0"
      },
      "execution_count": null,
      "outputs": [
        {
          "output_type": "stream",
          "name": "stdout",
          "text": [
            "9\n"
          ]
        }
      ]
    },
    {
      "cell_type": "markdown",
      "metadata": {
        "id": "vtjA_wmKmKdm"
      },
      "source": [
        "### Loops with an else Block"
      ]
    },
    {
      "cell_type": "code",
      "metadata": {
        "id": "-bbv-WJvmOAY",
        "colab": {
          "base_uri": "https://localhost:8080/"
        },
        "outputId": "b041dc85-096d-4415-cee1-db486f910851"
      },
      "source": [
        "for i in [1,2,3,4,5]: \n",
        "    print (i) \n",
        "else : \n",
        "    print ( \"for loop is done\" ) "
      ],
      "execution_count": null,
      "outputs": [
        {
          "output_type": "stream",
          "name": "stdout",
          "text": [
            "1\n",
            "2\n",
            "3\n",
            "4\n",
            "5\n",
            "for loop is done\n"
          ]
        }
      ]
    },
    {
      "cell_type": "markdown",
      "metadata": {
        "id": "l07zEnZew17m"
      },
      "source": [
        "## Funciones"
      ]
    },
    {
      "cell_type": "code",
      "source": [
        "max(23,53,81,7,90,2,5)"
      ],
      "metadata": {
        "id": "JV0Jb9KndwGN",
        "colab": {
          "base_uri": "https://localhost:8080/"
        },
        "outputId": "ef45e633-73a0-48b9-d935-14f2fd972ac8"
      },
      "execution_count": null,
      "outputs": [
        {
          "output_type": "execute_result",
          "data": {
            "text/plain": [
              "90"
            ]
          },
          "metadata": {},
          "execution_count": 1
        }
      ]
    },
    {
      "cell_type": "code",
      "source": [
        "def sum(valores):\n",
        "    i=0\n",
        "    for ele in valores:\n",
        "        i+= ele\n",
        "    return i\n",
        "print(sum((7,33,56,122,364)))"
      ],
      "metadata": {
        "colab": {
          "base_uri": "https://localhost:8080/"
        },
        "id": "N4hTcEM_AFqM",
        "outputId": "3cec6561-4477-41a1-9471-480dff68c832"
      },
      "execution_count": null,
      "outputs": [
        {
          "output_type": "stream",
          "name": "stdout",
          "text": [
            "582\n"
          ]
        }
      ]
    },
    {
      "cell_type": "markdown",
      "metadata": {
        "id": "72TKXLd7maKb"
      },
      "source": [
        "### Key-word arguments"
      ]
    },
    {
      "cell_type": "code",
      "source": [
        "def equipo(nombre, proyecto):\n",
        "    print(nombre, \"está trabajando en un\", proyecto)\n",
        "\n",
        "equipo(proyecto = \"programa de key-word\", nombre = 'Karen')"
      ],
      "metadata": {
        "id": "g1I1anjXdqgX",
        "colab": {
          "base_uri": "https://localhost:8080/"
        },
        "outputId": "61c7e398-036c-4153-a2e8-422390a2e914"
      },
      "execution_count": null,
      "outputs": [
        {
          "output_type": "stream",
          "name": "stdout",
          "text": [
            "Karen está trabajando en un programa de key-word\n"
          ]
        }
      ]
    },
    {
      "cell_type": "markdown",
      "metadata": {
        "id": "6h4P48jLmtJ8"
      },
      "source": [
        "### Defining Functions"
      ]
    },
    {
      "cell_type": "markdown",
      "metadata": {
        "id": "KBv28tsi6CgD"
      },
      "source": [
        "Las funciones son una manera conveniente de dividir el código en bloques útiles, permitiendo órden, haciéndolo más leíble, reusable y nos permite ser más productivos.\n",
        "\n",
        "Las funciones son una manera muy valiosa de definir interfaces de manera que los y las programadoras pueden compartir su código."
      ]
    },
    {
      "cell_type": "markdown",
      "metadata": {
        "id": "Dh4rCYsG6OYg"
      },
      "source": [
        "### Usamos la palabra def para declarar nuestra función:"
      ]
    },
    {
      "cell_type": "code",
      "metadata": {
        "id": "f8dxrXiH6RDI",
        "colab": {
          "base_uri": "https://localhost:8080/"
        },
        "outputId": "a0f2414e-95c4-4762-c9df-1d11b6cf8dbd"
      },
      "source": [
        "def mult(valores):\n",
        "    i=1\n",
        "    for x in valores:\n",
        "        i= x*i\n",
        "    return i\n",
        "print(mult((2,9,785,24)))\n"
      ],
      "execution_count": null,
      "outputs": [
        {
          "output_type": "stream",
          "name": "stdout",
          "text": [
            "339120\n"
          ]
        }
      ]
    },
    {
      "cell_type": "markdown",
      "metadata": {
        "id": "Q2CXVZ5U6VIc"
      },
      "source": [
        "O podemos crear una función con argumentos:\n"
      ]
    },
    {
      "cell_type": "code",
      "metadata": {
        "id": "TmQOIgFz6Vbz",
        "colab": {
          "base_uri": "https://localhost:8080/"
        },
        "outputId": "0599d946-3148-4732-931d-54995184730e"
      },
      "source": [
        "def calculo_impuestos(valor, tasa = 0.21):\n",
        "   return valor * tasa\n",
        "\n",
        "calculo_impuestos(2456)"
      ],
      "execution_count": null,
      "outputs": [
        {
          "output_type": "execute_result",
          "data": {
            "text/plain": [
              "515.76"
            ]
          },
          "metadata": {},
          "execution_count": 10
        }
      ]
    },
    {
      "cell_type": "markdown",
      "metadata": {
        "id": "SIRGOG_f6r-X"
      },
      "source": [
        "### Podemos crear funciones que regrese valores\n",
        "\n",
        "### Y podemos hacer uso de la función así y guardar el resultado de la ejecución del método en la variable resultado"
      ]
    },
    {
      "cell_type": "code",
      "metadata": {
        "id": "u2OS4BHgmwzW",
        "colab": {
          "base_uri": "https://localhost:8080/"
        },
        "outputId": "11750b82-cdf1-4876-9d0a-c62322dc5e70"
      },
      "source": [
        "def sumaprogresion(n):\n",
        "       sp=n*(n+1)/2\n",
        "       return sp\n",
        "sumaprogresion(98)"
      ],
      "execution_count": null,
      "outputs": [
        {
          "output_type": "execute_result",
          "data": {
            "text/plain": [
              "4851.0"
            ]
          },
          "metadata": {},
          "execution_count": 16
        }
      ]
    },
    {
      "cell_type": "code",
      "metadata": {
        "id": "LwNvsUjYoY9z",
        "colab": {
          "base_uri": "https://localhost:8080/"
        },
        "outputId": "a5217589-e7e6-4830-86c7-93c0678c3cc1"
      },
      "source": [
        "y = 52\n",
        "def funcion(entrada):\n",
        "    entrada = 8\n",
        "funcion(y)\n",
        "\n",
        "print(y) "
      ],
      "execution_count": null,
      "outputs": [
        {
          "output_type": "stream",
          "name": "stdout",
          "text": [
            "52\n"
          ]
        }
      ]
    },
    {
      "cell_type": "code",
      "metadata": {
        "id": "vB-nINIhm6EU",
        "colab": {
          "base_uri": "https://localhost:8080/"
        },
        "outputId": "dbaec072-e2cd-430f-c24c-1c07515e5156"
      },
      "source": [
        "z = [10, 20, 30]\n",
        "def funcion(entrada):\n",
        "    entrada = []\n",
        "\n",
        "funcion(z)\n",
        "print(z)"
      ],
      "execution_count": null,
      "outputs": [
        {
          "output_type": "stream",
          "name": "stdout",
          "text": [
            "[10, 20, 30]\n"
          ]
        }
      ]
    },
    {
      "cell_type": "markdown",
      "metadata": {
        "id": "PKDN3o0XmtE5"
      },
      "source": [
        "### DValores default para las funciones"
      ]
    },
    {
      "cell_type": "code",
      "metadata": {
        "id": "gqsPGSNmm-d2",
        "colab": {
          "base_uri": "https://localhost:8080/"
        },
        "outputId": "916b4a9c-5a43-48a0-80ce-cfab3fb5a045"
      },
      "source": [
        "def lafuncion(a,b=2,c=3):\n",
        "  print(a+b+c)\n",
        "lafuncion(2,4)"
      ],
      "execution_count": null,
      "outputs": [
        {
          "output_type": "stream",
          "name": "stdout",
          "text": [
            "9\n"
          ]
        }
      ]
    },
    {
      "cell_type": "code",
      "metadata": {
        "id": "AssngshxpIuK",
        "colab": {
          "base_uri": "https://localhost:8080/"
        },
        "outputId": "22784b40-9a9b-4343-da19-cdf3589436f2"
      },
      "source": [
        "def suma(a, b = 0):\n",
        "    print(\"a:\", a)\n",
        "    print(\"b:\", b)\n",
        "suma(3,24)"
      ],
      "execution_count": null,
      "outputs": [
        {
          "output_type": "stream",
          "name": "stdout",
          "text": [
            "a: 3\n",
            "b: 24\n"
          ]
        }
      ]
    },
    {
      "cell_type": "code",
      "source": [
        "def suma(a, b = 0):\n",
        "    print(\"a:\", a)\n",
        "    print(\"b:\", b)\n",
        "suma(56)"
      ],
      "metadata": {
        "colab": {
          "base_uri": "https://localhost:8080/"
        },
        "id": "H4nGUfAnHAjl",
        "outputId": "1cfbbefa-40d5-46b0-b694-136fc186094a"
      },
      "execution_count": null,
      "outputs": [
        {
          "output_type": "stream",
          "name": "stdout",
          "text": [
            "a: 56\n",
            "b: 0\n"
          ]
        }
      ]
    },
    {
      "cell_type": "markdown",
      "metadata": {
        "id": "2rGTAXA6nE1z"
      },
      "source": [
        "### *args and **kwargs: Argumentos Flexibles"
      ]
    },
    {
      "cell_type": "markdown",
      "metadata": {
        "id": "yPfj_v3V--q4"
      },
      "source": [
        "El principal uso de *args y **kwargs es en la definición de funciones. Ambos permiten pasar un número variable de argumentos a una función, por lo que si quieres definir una función cuyo número de parámetros de entrada puede ser variable, considera el uso de *args o **kwargs como una opción.\n",
        "\n",
        "**kwargs permite pasar argumentos de longitud variable asociados con un nombre o key a una función. Deberías usar **kwargs si quieres manejar argumentos con nombre como entrada a una función."
      ]
    },
    {
      "cell_type": "code",
      "metadata": {
        "id": "Co0QS7x_paYD",
        "colab": {
          "base_uri": "https://localhost:8080/"
        },
        "outputId": "a4e4127d-7b8f-488b-ff09-ad8863a64ea2"
      },
      "source": [
        "def suma(*numeros):\n",
        "    t = 0\n",
        "    for arg in numeros:\n",
        "        t += arg\n",
        "    return t\n",
        "\n",
        "suma(4, 3, 85, 12)"
      ],
      "execution_count": null,
      "outputs": [
        {
          "output_type": "execute_result",
          "data": {
            "text/plain": [
              "104"
            ]
          },
          "metadata": {},
          "execution_count": 36
        }
      ]
    },
    {
      "cell_type": "code",
      "metadata": {
        "id": "w-trQukNnFwR",
        "colab": {
          "base_uri": "https://localhost:8080/"
        },
        "outputId": "b8a3bb27-9102-429c-cbf3-ba89ba2bb8c7"
      },
      "source": [
        "suma(24, 51)"
      ],
      "execution_count": null,
      "outputs": [
        {
          "output_type": "execute_result",
          "data": {
            "text/plain": [
              "75"
            ]
          },
          "metadata": {},
          "execution_count": 37
        }
      ]
    },
    {
      "cell_type": "code",
      "metadata": {
        "id": "W_j78Myxp1ck",
        "colab": {
          "base_uri": "https://localhost:8080/"
        },
        "outputId": "500a9c62-37e2-4d5c-d497-c823dfb5673c"
      },
      "source": [
        "def suma(**numeros2):\n",
        "    r = 0\n",
        "    for v , value in numeros2.items():\n",
        "        print(v, \"=\", value)\n",
        "        r += value\n",
        "    return r\n",
        "    \n",
        "suma(a=3, b=10, c=3)"
      ],
      "execution_count": null,
      "outputs": [
        {
          "output_type": "stream",
          "name": "stdout",
          "text": [
            "a = 3\n",
            "b = 10\n",
            "c = 3\n"
          ]
        },
        {
          "output_type": "execute_result",
          "data": {
            "text/plain": [
              "16"
            ]
          },
          "metadata": {},
          "execution_count": 40
        }
      ]
    },
    {
      "cell_type": "markdown",
      "metadata": {
        "id": "5jrMM8Wznc6E"
      },
      "source": [
        "### Funciones lambda"
      ]
    },
    {
      "cell_type": "code",
      "metadata": {
        "id": "RJRIcqWMntw3",
        "colab": {
          "base_uri": "https://localhost:8080/"
        },
        "outputId": "8c3a13fa-e822-415b-8f35-2e9a042f5956"
      },
      "source": [
        "suma=lambda k, j : k + j\n",
        "suma (20, 21)"
      ],
      "execution_count": null,
      "outputs": [
        {
          "output_type": "execute_result",
          "data": {
            "text/plain": [
              "41"
            ]
          },
          "metadata": {},
          "execution_count": 46
        }
      ]
    },
    {
      "cell_type": "code",
      "metadata": {
        "id": "wF-C3eO6qcwu",
        "colab": {
          "base_uri": "https://localhost:8080/"
        },
        "outputId": "f25c6eb6-08a9-4c45-dd5e-2aeabff808e1"
      },
      "source": [
        "(lambda k, j: k + j)(20, 21)"
      ],
      "execution_count": null,
      "outputs": [
        {
          "output_type": "execute_result",
          "data": {
            "text/plain": [
              "41"
            ]
          },
          "metadata": {},
          "execution_count": 48
        }
      ]
    },
    {
      "cell_type": "code",
      "metadata": {
        "id": "x0l3_Xj5n0Lh",
        "colab": {
          "base_uri": "https://localhost:8080/"
        },
        "outputId": "bcf2c8e4-50e7-4571-f1fe-a34d86fb984f"
      },
      "source": [
        "def funcionx(lambda_función):\n",
        "    return lambda_función(20,21)\n",
        "\n",
        "funcionx(lambda k, j: k + j)"
      ],
      "execution_count": null,
      "outputs": [
        {
          "output_type": "execute_result",
          "data": {
            "text/plain": [
              "41"
            ]
          },
          "metadata": {},
          "execution_count": 49
        }
      ]
    },
    {
      "cell_type": "code",
      "metadata": {
        "id": "cRhKsKwh_7_s",
        "colab": {
          "base_uri": "https://localhost:8080/"
        },
        "outputId": "549c2f3c-0447-41a6-9059-40050040e7d8"
      },
      "source": [
        "(lambda k, j=32, h=3: k + j + h)(1,2) "
      ],
      "execution_count": null,
      "outputs": [
        {
          "output_type": "execute_result",
          "data": {
            "text/plain": [
              "6"
            ]
          },
          "metadata": {},
          "execution_count": 51
        }
      ]
    },
    {
      "cell_type": "code",
      "metadata": {
        "id": "qYjVjWX1qsdp",
        "colab": {
          "base_uri": "https://localhost:8080/"
        },
        "outputId": "5627c58d-f9df-45da-9c51-65c5ce320b31"
      },
      "source": [
        "(lambda *numeros_: sum(numeros_))(3, 8, 16) "
      ],
      "execution_count": null,
      "outputs": [
        {
          "output_type": "execute_result",
          "data": {
            "text/plain": [
              "27"
            ]
          },
          "metadata": {},
          "execution_count": 52
        }
      ]
    },
    {
      "cell_type": "code",
      "metadata": {
        "id": "LsVF-5j0q277",
        "colab": {
          "base_uri": "https://localhost:8080/"
        },
        "outputId": "aaa09eb5-fce1-4fbe-c0c1-2b014fc250a7"
      },
      "source": [
        "x = lambda y, z: (z, y)\n",
        "print(x(54, 7))"
      ],
      "execution_count": null,
      "outputs": [
        {
          "output_type": "stream",
          "name": "stdout",
          "text": [
            "(7, 54)\n"
          ]
        }
      ]
    },
    {
      "cell_type": "markdown",
      "metadata": {
        "id": "h4_PUhQjDET0"
      },
      "source": [
        "## Buenas prácticas para escribir código Python\n",
        "\n",
        "Las convenciones para escribir código Python se describen en [The PEP 8 Style Guide for Python Code](https://www.python.org/dev/peps/pep-0008/), entre las que encontramos,\n",
        "\n",
        "- Longitud máxima de línea: 79 caracteres.\n",
        "- 4 espacios por nivel de sangría\n",
        "- 'Hanging indentation' para contenido dentro de brackets\n",
        "- Espacio alrededor de operadores\n",
        "- Una expresión po línea"
      ]
    }
  ]
}